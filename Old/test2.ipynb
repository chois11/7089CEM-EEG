{
 "cells": [
  {
   "cell_type": "code",
   "execution_count": null,
   "metadata": {},
   "outputs": [],
   "source": [
    "x = seq(0,10, by=0.4)\n",
    "y = 2 + 0.5*x + 0.3*(x^2) \n",
    "y = y + rnorm(length(y), mean=0, sd = 0.5)\n",
    "plot(x,y)\n",
    "\n",
    "ones = matrix(1 , length(x),1)\n",
    "#x2 = matrix(x^2)\n",
    "X = cbind(ones, x, x^2)\n",
    "\n",
    "#Un-comment the below code, if you use a linear model: y=w_0 + w_1*x\n",
    "#X = cbind(ones,x)\n",
    "\n",
    "#Un-comment the below code, if you use a third-order polynomial: y=w_0+w_1*x+w_2*x^2+w_3*x^3\n",
    "#x3 = matrix(x^3)\n",
    "#X = cbind(ones,x,x2,x3)\n",
    "\n",
    "thetaHat = solve(t(X) %*% X) %*% t(X) %*% y\n",
    "print(thetaHat)\n",
    "\n",
    "y_Hat = X %*% thetaHat\n",
    "\n",
    "plot(x,y, col=\"blue\")\n",
    "lines(x,y_Hat, col=\"red\")\n",
    "\n",
    "error = y - y_Hat\n",
    "\n",
    "SSE = norm(error, type = \"2\")^2\n",
    "SSE1 = sum((y-y_Hat)^2)\n",
    "print(SSE)\n"
   ]
  }
 ],
 "metadata": {
  "kernelspec": {
   "display_name": "R",
   "language": "R",
   "name": "ir"
  },
  "language_info": {
   "codemirror_mode": "r",
   "file_extension": ".r",
   "mimetype": "text/x-r-source",
   "name": "R",
   "pygments_lexer": "r",
   "version": "4.0.3"
  }
 },
 "nbformat": 4,
 "nbformat_minor": 4
}
